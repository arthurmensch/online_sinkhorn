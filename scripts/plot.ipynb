{
 "cells": [
  {
   "cell_type": "code",
   "execution_count": 4,
   "metadata": {},
   "outputs": [],
   "source": [
    "from os.path import expanduser, join\n",
    "output_dir = expanduser('~/output/online_sinkhorn/online_grid11')"
   ]
  },
  {
   "cell_type": "code",
   "execution_count": 5,
   "metadata": {},
   "outputs": [
    {
     "data": {
      "text/plain": [
       "gmm_1d    300000\n",
       "dragon      3000\n",
       "Name: data_source, dtype: int64"
      ]
     },
     "execution_count": 5,
     "metadata": {},
     "output_type": "execute_result"
    }
   ],
   "source": [
    "import pandas as pd\n",
    "\n",
    "df_ = pd.read_pickle(join(output_dir, 'all.pkl'))\n",
    "\n",
    "df_['data_source'].value_counts()"
   ]
  },
  {
   "cell_type": "code",
   "execution_count": 3,
   "metadata": {},
   "outputs": [],
   "source": [
    "import matplotlib.pyplot as plt\n",
    "df = df_.copy()\n",
    "df = df.query('method != \"online_as_warmup\"')\n",
    "df  = df.query('method != \"sinkhorn_precompute\"')\n",
    "df = df.query('method != \"random\"')\n",
    "df = df.query('method != \"online\" | (batch_exp in [0] & lr_exp == \"auto\")')\n",
    "df = df.query('data_source != \"dragon\"')\n",
    "# df = df.query('method != \"random\"')\n",
    "for (data_source, epsilon), df2 in df.groupby(by=['data_source', 'epsilon']):\n",
    "    fig, ax = plt.subplots(1, 1)\n",
    "    for index, df3 in df2.groupby(by=['method', 'refit', 'batch_exp', 'lr_exp', 'batch_size']):\n",
    "        n_iter = df3['n_iter']\n",
    "        n_calls = df3['n_calls']\n",
    "        n_samples = df3['n_samples']\n",
    "        train = df3['ref_err_train']\n",
    "        test = df3['ref_err_test']\n",
    "        ax.plot(n_calls, test, label=index)\n",
    "    ax.legend(bbox_to_anchor=(1, 1), loc='upper left')\n",
    "    ax.set_xscale('log')\n",
    "    ax.set_yscale('log')\n",
    "    fig.suptitle(f'data={data_source} eps={epsilon}')\n",
    "    plt.show()"
   ]
  },
  {
   "cell_type": "code",
   "execution_count": null,
   "metadata": {},
   "outputs": [],
   "source": []
  },
  {
   "cell_type": "code",
   "execution_count": null,
   "metadata": {},
   "outputs": [],
   "source": []
  }
 ],
 "metadata": {
  "kernelspec": {
   "display_name": "Python 3",
   "language": "python",
   "name": "python3"
  },
  "language_info": {
   "codemirror_mode": {
    "name": "ipython",
    "version": 3
   },
   "file_extension": ".py",
   "mimetype": "text/x-python",
   "name": "python",
   "nbconvert_exporter": "python",
   "pygments_lexer": "ipython3",
   "version": "3.7.4"
  }
 },
 "nbformat": 4,
 "nbformat_minor": 4
}
